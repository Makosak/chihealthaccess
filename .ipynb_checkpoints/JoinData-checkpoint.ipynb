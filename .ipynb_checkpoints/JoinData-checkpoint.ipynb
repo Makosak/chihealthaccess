{
 "cells": [
  {
   "cell_type": "code",
   "execution_count": 4,
   "metadata": {
    "collapsed": false,
    "scrolled": true
   },
   "outputs": [
    {
     "name": "stdout",
     "output_type": "stream",
     "text": [
      "/Users/Makosak/code/chihealthaccess\n"
     ]
    }
   ],
   "source": [
    "cd chihealthaccess"
   ]
  },
  {
   "cell_type": "code",
   "execution_count": 5,
   "metadata": {
    "collapsed": false,
    "scrolled": true
   },
   "outputs": [],
   "source": [
    "# Import required libraries\n",
    "import numpy as np\n",
    "import pandas as pd\n",
    "import pysal as ps\n",
    "import random as rdm\n",
    "from pysal.contrib.viz import mapping as maps\n",
    "%matplotlib inline\n",
    "from pylab import *"
   ]
  },
  {
   "cell_type": "code",
   "execution_count": 6,
   "metadata": {
    "collapsed": false
   },
   "outputs": [],
   "source": [
    "# Open census tract shapefile and database.\n",
    "shp_link = 'data/CensusTractsTIGER2010.shp'\n",
    "dbf = ps.open('data/CensusTractsTIGER2010.dbf')"
   ]
  },
  {
   "cell_type": "code",
   "execution_count": 7,
   "metadata": {
    "collapsed": true
   },
   "outputs": [],
   "source": [
    "# Shapefile and data preparation.\n",
    "cols = np.array([dbf.by_col(col) for col in dbf.header]).T\n",
    "df = pd.DataFrame(cols)\n",
    "df.columns = dbf.header\n",
    "df.columns = df.columns.map(lambda x: x.lower())\n",
    "df.commarea = df.commarea.astype('int')\n",
    "df['order'] = df.index"
   ]
  },
  {
   "cell_type": "code",
   "execution_count": 8,
   "metadata": {
    "collapsed": false
   },
   "outputs": [],
   "source": [
    "init_calls = pd.read_csv('data/CDPHtest.csv', dtype=object)"
   ]
  },
  {
   "cell_type": "code",
   "execution_count": 9,
   "metadata": {
    "collapsed": false
   },
   "outputs": [],
   "source": [
    "for c in init_calls.columns[1:]:\n",
    "    init_calls[c] = init_calls[c].astype('float')"
   ]
  },
  {
   "cell_type": "code",
   "execution_count": 11,
   "metadata": {
    "collapsed": false
   },
   "outputs": [],
   "source": [
    "# Format data and merge on shapefile IDs\n",
    "ordered_tracts = pd.DataFrame(df.loc[:,['tractce10', 'commarea', 'order']])\n",
    "calls = pd.merge(init_calls, ordered_tracts, how='right', left_on='tract', \n",
    "    right_on='tractce10', sort=False).fillna(0).sort(['order'])\n",
    "calls = calls.drop(['order', 'commarea'],1)\n",
    "\n",
    "class bd:\n",
    "  data = calls\n",
    "  shp_link = shp_link\n",
    "  id = 'tractce10'\n",
    "  level = 'tract'"
   ]
  },
  {
   "cell_type": "code",
   "execution_count": 15,
   "metadata": {
    "collapsed": false
   },
   "outputs": [],
   "source": [
    "# Assign the attribute data.\n",
    "d = bd()\n"
   ]
  },
  {
   "cell_type": "code",
   "execution_count": 16,
   "metadata": {
    "collapsed": true
   },
   "outputs": [],
   "source": [
    "\n",
    "shpOut = 'CDPHTest.shp'"
   ]
  },
  {
   "cell_type": "code",
   "execution_count": 19,
   "metadata": {
    "collapsed": false
   },
   "outputs": [
    {
     "ename": "NameError",
     "evalue": "name 'collection' is not defined",
     "output_type": "error",
     "traceback": [
      "\u001b[0;31m---------------------------------------------------------------------------\u001b[0m",
      "\u001b[0;31mNameError\u001b[0m                                 Traceback (most recent call last)",
      "\u001b[0;32m<ipython-input-19-c70ae6476505>\u001b[0m in \u001b[0;36m<module>\u001b[0;34m()\u001b[0m\n\u001b[1;32m      1\u001b[0m \u001b[0mdata\u001b[0m \u001b[0;34m=\u001b[0m \u001b[0md\u001b[0m\u001b[0;34m\u001b[0m\u001b[0m\n\u001b[0;32m----> 2\u001b[0;31m \u001b[0;32mwith\u001b[0m \u001b[0mcollection\u001b[0m\u001b[0;34m(\u001b[0m\u001b[0mshpOut\u001b[0m\u001b[0;34m,\u001b[0m \u001b[0;34m\"w\"\u001b[0m\u001b[0;34m,\u001b[0m \u001b[0;34m\"ESRI Shapefile\"\u001b[0m\u001b[0;34m)\u001b[0m \u001b[0;32mas\u001b[0m \u001b[0moutput\u001b[0m\u001b[0;34m:\u001b[0m\u001b[0;34m\u001b[0m\u001b[0m\n\u001b[0m\u001b[1;32m      3\u001b[0m     \u001b[0;32mfor\u001b[0m \u001b[0mindex\u001b[0m\u001b[0;34m,\u001b[0m \u001b[0mrow\u001b[0m \u001b[0;32min\u001b[0m \u001b[0mdata\u001b[0m\u001b[0;34m.\u001b[0m\u001b[0miterrows\u001b[0m\u001b[0;34m(\u001b[0m\u001b[0;34m)\u001b[0m\u001b[0;34m:\u001b[0m\u001b[0;34m\u001b[0m\u001b[0m\n\u001b[1;32m      4\u001b[0m         output.write({\n\u001b[1;32m      5\u001b[0m                 'properties': {\n",
      "\u001b[0;31mNameError\u001b[0m: name 'collection' is not defined"
     ]
    }
   ],
   "source": [
    "schema = { 'geometry': 'Polygon', 'properties': {\n",
    "                'tract': 'str:24', }}\n",
    "\n",
    "\n",
    "data = d\n",
    "with collection(shpOut, \"w\", \"ESRI Shapefile\", schema) as output:\n",
    "    for index, row in data.iterrows():\n",
    "        output.write({\n",
    "                'properties': {\n",
    "                'tract': 'str:24', },\n",
    "                'geometry': mapping(polygon)\n",
    "            })"
   ]
  },
  {
   "cell_type": "code",
   "execution_count": null,
   "metadata": {
    "collapsed": true
   },
   "outputs": [],
   "source": []
  }
 ],
 "metadata": {
  "kernelspec": {
   "display_name": "Python 2",
   "language": "python",
   "name": "python2"
  },
  "language_info": {
   "codemirror_mode": {
    "name": "ipython",
    "version": 2
   },
   "file_extension": ".py",
   "mimetype": "text/x-python",
   "name": "python",
   "nbconvert_exporter": "python",
   "pygments_lexer": "ipython2",
   "version": "2.7.10"
  }
 },
 "nbformat": 4,
 "nbformat_minor": 0
}
